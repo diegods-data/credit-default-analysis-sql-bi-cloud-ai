{
 "cells": [
  {
   "cell_type": "markdown",
   "id": "f01e8cee",
   "metadata": {},
   "source": [
    "# Credit Default Analysis\n",
    "\n",
    "This notebook performs exploratory data analysis (EDA) and builds a machine‑learning model to predict whether a credit‑card client will default on their payment in the following month.  If the full dataset is present in `../data/default_of_credit_card_clients.csv` the notebook will load it; otherwise a synthetic dataset is generated for demonstration purposes."
   ]
  },
  {
   "cell_type": "markdown",
   "id": "154114ae",
   "metadata": {},
   "source": [
    "## 1. Setup\n",
    "\n",
    "Import necessary libraries."
   ]
  },
  {
   "cell_type": "code",
   "execution_count": null,
   "id": "4048de1f",
   "metadata": {},
   "outputs": [],
   "source": [
    "\n",
    "import pandas as pd\n",
    "import numpy as np\n",
    "import os\n",
    "from sklearn.model_selection import train_test_split\n",
    "from sklearn.preprocessing import StandardScaler\n",
    "from sklearn.linear_model import LogisticRegression\n",
    "from sklearn.metrics import classification_report, confusion_matrix, roc_auc_score, roc_curve\n",
    "import matplotlib.pyplot as plt\n"
   ]
  },
  {
   "cell_type": "markdown",
   "id": "cc298179",
   "metadata": {},
   "source": [
    "## 2. Load data\n",
    "\n",
    "Attempt to load the credit card default dataset from the `../data` folder.  If the file is not found, a synthetic dataset is generated as a fallback."
   ]
  },
  {
   "cell_type": "code",
   "execution_count": null,
   "id": "2c4faece",
   "metadata": {},
   "outputs": [],
   "source": [
    "\n",
    "# Path to the dataset (expects the CSV to be placed in the data/ folder)\n",
    "data_path = os.path.join('..', 'data', 'default_of_credit_card_clients.csv')\n",
    "\n",
    "if os.path.exists(data_path):\n",
    "    print(f\"Loading dataset from {data_path}...\")\n",
    "    df = pd.read_csv(data_path)\n",
    "else:\n",
    "    print(\"Dataset file not found. Generating synthetic dataset for demonstration.\")\n",
    "    # generate synthetic dataset with similar structure\n",
    "    np.random.seed(42)\n",
    "    n_samples = 1000\n",
    "    df = pd.DataFrame({\n",
    "        'LIMIT_BAL': np.random.normal(200000, 50000, n_samples).astype(int),\n",
    "        'SEX': np.random.choice([1, 2], n_samples),\n",
    "        'EDUCATION': np.random.choice([1, 2, 3, 4], n_samples),\n",
    "        'MARRIAGE': np.random.choice([1, 2, 3], n_samples),\n",
    "        'AGE': np.random.randint(21, 70, n_samples),\n",
    "        'PAY_0': np.random.randint(-2, 9, n_samples),\n",
    "        'PAY_2': np.random.randint(-2, 9, n_samples),\n",
    "        'PAY_3': np.random.randint(-2, 9, n_samples),\n",
    "        'PAY_4': np.random.randint(-2, 9, n_samples),\n",
    "        'PAY_5': np.random.randint(-2, 9, n_samples),\n",
    "        'PAY_6': np.random.randint(-2, 9, n_samples),\n",
    "        'BILL_AMT1': np.random.uniform(0, 1e5, n_samples),\n",
    "        'BILL_AMT2': np.random.uniform(0, 1e5, n_samples),\n",
    "        'BILL_AMT3': np.random.uniform(0, 1e5, n_samples),\n",
    "        'BILL_AMT4': np.random.uniform(0, 1e5, n_samples),\n",
    "        'BILL_AMT5': np.random.uniform(0, 1e5, n_samples),\n",
    "        'BILL_AMT6': np.random.uniform(0, 1e5, n_samples),\n",
    "        'PAY_AMT1': np.random.uniform(0, 1e4, n_samples),\n",
    "        'PAY_AMT2': np.random.uniform(0, 1e4, n_samples),\n",
    "        'PAY_AMT3': np.random.uniform(0, 1e4, n_samples),\n",
    "        'PAY_AMT4': np.random.uniform(0, 1e4, n_samples),\n",
    "        'PAY_AMT5': np.random.uniform(0, 1e4, n_samples),\n",
    "        'PAY_AMT6': np.random.uniform(0, 1e4, n_samples),\n",
    "    })\n",
    "    # assign a synthetic default flag with 20% positive rate\n",
    "    df['default payment next month'] = (np.random.rand(n_samples) < 0.2).astype(int)\n",
    "\n",
    "# Display the first few rows\n",
    "print(df.head())\n",
    "print(\"\n",
    "Class distribution:\n",
    "\", df['default payment next month'].value_counts(normalize=True))\n"
   ]
  },
  {
   "cell_type": "markdown",
   "id": "b0ddeb24",
   "metadata": {},
   "source": [
    "## 3. Prepare data for modelling\n",
    "\n",
    "Select feature columns, standardise them and split the data into training and test sets."
   ]
  },
  {
   "cell_type": "code",
   "execution_count": null,
   "id": "2116bee3",
   "metadata": {},
   "outputs": [],
   "source": [
    "\n",
    "# Remove non‑feature columns\n",
    "feature_columns = [col for col in df.columns if col not in ['ID', 'default payment next month']]\n",
    "X = df[feature_columns]\n",
    "y = df['default payment next month']\n",
    "\n",
    "# Train/test split\n",
    "X_train, X_test, y_train, y_test = train_test_split(\n",
    "    X, y, test_size=0.2, random_state=42, stratify=y)\n",
    "\n",
    "# Standardise features\n",
    "scaler = StandardScaler()\n",
    "X_train_scaled = scaler.fit_transform(X_train)\n",
    "X_test_scaled = scaler.transform(X_test)\n"
   ]
  },
  {
   "cell_type": "markdown",
   "id": "cbcccbcf",
   "metadata": {},
   "source": [
    "## 4. Train logistic regression model\n",
    "\n",
    "Fit a logistic regression classifier and evaluate its performance."
   ]
  },
  {
   "cell_type": "code",
   "execution_count": null,
   "id": "1ce5cde8",
   "metadata": {},
   "outputs": [],
   "source": [
    "\n",
    "# Train logistic regression\n",
    "model = LogisticRegression(max_iter=1000)\n",
    "model.fit(X_train_scaled, y_train)\n",
    "\n",
    "# Predictions\n",
    "y_pred = model.predict(X_test_scaled)\n",
    "y_prob = model.predict_proba(X_test_scaled)[:, 1]\n",
    "\n",
    "# Evaluation metrics\n",
    "print(\"Classification Report:\n",
    "\", classification_report(y_test, y_pred))\n",
    "print(\"Confusion Matrix:\n",
    "\", confusion_matrix(y_test, y_pred))\n",
    "print(\"ROC AUC:\", roc_auc_score(y_test, y_prob))\n"
   ]
  },
  {
   "cell_type": "markdown",
   "id": "deab3afe",
   "metadata": {},
   "source": [
    "## 5. Plot ROC curve\n",
    "\n",
    "Visualise the trade‑off between the true positive rate and the false positive rate."
   ]
  },
  {
   "cell_type": "code",
   "execution_count": null,
   "id": "4b846b36",
   "metadata": {},
   "outputs": [],
   "source": [
    "\n",
    "fpr, tpr, thresholds = roc_curve(y_test, y_prob)\n",
    "\n",
    "plt.figure()\n",
    "plt.plot(fpr, tpr)\n",
    "plt.xlabel('False Positive Rate')\n",
    "plt.ylabel('True Positive Rate')\n",
    "plt.title('ROC Curve')\n",
    "plt.show()\n"
   ]
  }
 ],
 "metadata": {},
 "nbformat": 4,
 "nbformat_minor": 5
}
